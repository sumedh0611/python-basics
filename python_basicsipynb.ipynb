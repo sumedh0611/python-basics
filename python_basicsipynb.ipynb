{
  "nbformat": 4,
  "nbformat_minor": 0,
  "metadata": {
    "colab": {
      "provenance": []
    },
    "kernelspec": {
      "name": "python3",
      "display_name": "Python 3"
    },
    "language_info": {
      "name": "python"
    }
  },
  "cells": [
    {
      "cell_type": "markdown",
      "source": [
        "    1. What is  python and why is it popular\n",
        "--- python is a high level programming laungauge and it is known for its large extensive libraries and it is  interpreated laungauge means the code is execute\n",
        "line by line .\n",
        "why it is popular--1.open source laungauge  \n",
        "                   2. platform indepeandent lanungauge              \n",
        "                   3.known for its large extensive libraries      \n",
        "                   4.simple,easy and easy to code with readability\n",
        "\n",
        "    2.What is interpreter in python\n",
        "\n",
        "---the interpreter in python means the code is execute by line  by line .\n",
        "\n",
        "     3.what are the pre-defined keywords in python?\n",
        "\n",
        "---there are 32 pre-defined keywords in python . the keyword means that words have defined some specific task to do in python . we can't use this keywords as variable.\n",
        "\n",
        "     4.can keywords c be used as a variable name?\n",
        "\n",
        "---aunswer is no.the keyword can't be used as avariable name beacuse the keywords have defined  specific task  in python that's why the keywords can't be used as a variable name.\n",
        "\n",
        "      5.what is mutability in python?\n",
        "\n",
        "---the mutability in python is there are various data structure in python if the data inside that data structure can be change the that's called mutability data structure . the list,dictionaries is the example of mutabilty in python.\n",
        "\n",
        "     6.Why are list mutable, but tuple are immutable?\n",
        "\n",
        "---the dats inside the list can be change that's why list is called mutable.\n",
        "and the data inside the tuple can't be change that's why it is called immutable.\n",
        "\n",
        "     7.what is the difference between the '==' and 'is' operator in python?\n",
        "\n",
        "---the '==' oprtator in python is used for the equals to means 4==4 means 4 is as equals to 4.\n",
        "'is' operator in python is ideantity operator example 'is' operator is used to find specific charactor in above data structure.\n",
        "\n",
        "      8.what are the logical operator in python?\n",
        "\n",
        "---there are three logical operator in pyton.\n",
        "'and','or','not' . 'and' means both the arguments are true than execute above .\n",
        "'or' means if any one arguments is true the execute above.\n",
        "'not' means inverts the result .\n",
        "\n",
        "     9.what is the type casting in python?\n",
        "\n",
        "---the type casting in python is we can change the type of the data by using the type casting. example a=10   str(a) we can change the data type a=10 it is int data type by using str() it is convert to string data type.\n",
        "\n",
        "     10.what is the  difference between implicit and explicit type casting?\n",
        "\n",
        "---the implicit type casting is done by the python interpreter without any external instruction by programmer. example  a=5 , b=1.5 print (a+b) then python interpreter converts the int to float for complete the operation.\n",
        "\n",
        "and the explicit type casting is done by the instruction of programmer.example  a=10 print(str(a)) we can convert the the type of data.\n",
        "\n",
        "     11.what is the purpose of conditional statements?\n",
        "\n",
        "---the purpose of the conditional statements is if we want to execute some condition means if condition is true then follows above code if condition is not satisfy then above code is not follows.in python if-else statements,while loop,for loop is the conditional statements .\n",
        "\n",
        "     12.how does the elif statements works?\n",
        "\n",
        "---the elif statements works as above\n",
        "if we have multiple conditons to satisfy then if-elif statements is use.\n",
        "\n",
        "  if a==1:\n",
        "\n",
        "    print(1)\n",
        "\n",
        "  elif a==2:\n",
        "\n",
        "    print(0)\n",
        "  else:\n",
        "\n",
        "    print(\"e')\n",
        "\n",
        "\n",
        "\n",
        "\n",
        "\n",
        " 13.what is the difference between for and while loop?\n",
        "\n",
        "\n",
        "--the difference between the for and while loop is as follows for loop is used when we know the no. of iterations and while loop is used when we don't know the no .of iterations.\n",
        "\n",
        "\n"
      ],
      "metadata": {
        "id": "rzR9OQsMxbBd"
      }
    },
    {
      "cell_type": "code",
      "execution_count": null,
      "metadata": {
        "id": "sNRonfNFxU2d"
      },
      "outputs": [],
      "source": [
        "#1 write a python programme to print the  \"Hello,World!\"\n",
        "print(\"Hello,World!\")\n"
      ]
    },
    {
      "cell_type": "code",
      "source": [
        "#2 write a programe to display your name and age\n",
        "name=input(\"enter your name:\")\n",
        "age=int(input(\"enter your age:\"))\n",
        "print(name)\n",
        "print(age)"
      ],
      "metadata": {
        "collapsed": true,
        "id": "fLX2wgtrLpCQ"
      },
      "execution_count": null,
      "outputs": []
    },
    {
      "cell_type": "code",
      "source": [
        "#3  write a python code to print all pre-defined code\n",
        "import keyword\n",
        "print(keyword.kwlist)"
      ],
      "metadata": {
        "id": "97w7ty0RMB2_"
      },
      "execution_count": null,
      "outputs": []
    },
    {
      "cell_type": "code",
      "source": [
        "#5 create list and tuple and demonstrate how attempting to change an element work differently for each\n",
        "list=[1,2,'sumedh',3.23]\n",
        "list[1]=1\n",
        "print(list)\n"
      ],
      "metadata": {
        "id": "7XM8ONMRMVsJ"
      },
      "execution_count": null,
      "outputs": []
    },
    {
      "cell_type": "code",
      "source": [
        "tuple=(1,2,'sumedh',3.23)\n",
        "tuple[1]=1\n",
        "print(tuple)"
      ],
      "metadata": {
        "id": "TrCh5iOGSK_9"
      },
      "execution_count": null,
      "outputs": []
    },
    {
      "cell_type": "code",
      "source": [
        "#7 write a program that perform basic arithmatic operations of two user taking inputs\n",
        "a=input(\"enter the first number:\")\n",
        "b=input(\"enter the second number:\")\n",
        "c=int(a)+int(b)\n",
        "d=int(a)-int(b)\n",
        "e=int(a)*int(b)\n",
        "f=int(a)/int(b)\n",
        "print(\"the addition of two numbers is : \", c )\n",
        "print(\"the substraction of two numbers is : \", d )\n",
        "print(\"the multiply of two numbers is : \" ,e )\n",
        "print(\"the divide  of two numbers is : \", f )"
      ],
      "metadata": {
        "id": "onQrm6zISpjZ"
      },
      "execution_count": null,
      "outputs": []
    },
    {
      "cell_type": "code",
      "source": [
        "#8 write a program demonstrate the use of logical operator\n",
        "a=int(input(\"enter a value\"))\n",
        "b=int(input(\"enter a value\"))\n",
        "if a==0 and b==0 :\n",
        "  print(\"all values are zero\")\n",
        "elif a!=0 or b==0 :\n",
        "  print(\"this is use of or operator\")\n",
        "\n",
        "\n",
        "\n",
        "\n",
        "\n",
        "\n"
      ],
      "metadata": {
        "id": "qKpNlSs0TzKT"
      },
      "execution_count": null,
      "outputs": []
    },
    {
      "cell_type": "code",
      "source": [
        "#9. write a program to convert a user input from string to int, float and booln types?\n",
        "a=input(\"enter a value\")\n",
        "print(int(a))\n",
        "print(float(a))\n",
        "print(bool(a))"
      ],
      "metadata": {
        "id": "LN6jbb3PuUih"
      },
      "execution_count": null,
      "outputs": []
    },
    {
      "cell_type": "code",
      "source": [
        "#10. write a program to demonstrate type casting with list elements.\n",
        "l1=[1,\"sumedh\",\"sun\",1.223]\n",
        "print(float(l1[0]))\n",
        "print(str(l1[0]))\n",
        "print(bool(l1[0]))"
      ],
      "metadata": {
        "id": "HxUq_jR_wJyu"
      },
      "execution_count": null,
      "outputs": []
    },
    {
      "cell_type": "code",
      "source": [
        "#11. write a program checks a number is positive , negative or zero ?\n",
        "a=int(input(\"enter a number\"))\n",
        "if a>0:\n",
        "  print(\"number is positive\")\n",
        "elif a<0:\n",
        "  print(\"number is negative\")\n",
        "else:\n",
        "  print(\"number is zero\" )"
      ],
      "metadata": {
        "id": "Psr30CArxEr6"
      },
      "execution_count": null,
      "outputs": []
    },
    {
      "cell_type": "code",
      "source": [
        "#12. write a program for loop to print a numbers from (1 to 10)?\n",
        "for i in range(1,11):\n",
        "  print(i)"
      ],
      "metadata": {
        "id": "gjTN6i0Qx1vK"
      },
      "execution_count": null,
      "outputs": []
    },
    {
      "cell_type": "code",
      "source": [
        "#13. write a program that find a sum of all even number between 1 to 50\n",
        "for i in range (0,51,2):\n",
        "  sum=i+i\n",
        "print(sum)\n"
      ],
      "metadata": {
        "id": "AM9bhF53yxGN"
      },
      "execution_count": null,
      "outputs": []
    },
    {
      "cell_type": "code",
      "source": [
        "#14. write a program that reverse a string usimg while loop\n",
        "a=\"my nae is sumedh\"\n",
        "while"
      ],
      "metadata": {
        "id": "avELWKAhyww0"
      },
      "execution_count": 25,
      "outputs": []
    },
    {
      "cell_type": "code",
      "source": [],
      "metadata": {
        "id": "48bQ97cVzxFW"
      },
      "execution_count": null,
      "outputs": []
    }
  ]
}